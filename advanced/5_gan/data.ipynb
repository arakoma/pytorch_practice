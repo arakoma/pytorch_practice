{
 "metadata": {
  "language_info": {
   "codemirror_mode": {
    "name": "ipython",
    "version": 3
   },
   "file_extension": ".py",
   "mimetype": "text/x-python",
   "name": "python",
   "nbconvert_exporter": "python",
   "pygments_lexer": "ipython3",
   "version": "3.6.9-final"
  },
  "orig_nbformat": 2,
  "kernelspec": {
   "name": "Python 3.6.9 64-bit",
   "display_name": "Python 3.6.9 64-bit",
   "metadata": {
    "interpreter": {
     "hash": "31f2aee4e71d21fbe5cf8b01ff0e069b9275f58929596ceb00d14d90e3e16cd6"
    }
   }
  }
 },
 "nbformat": 4,
 "nbformat_minor": 2,
 "cells": [
  {
   "cell_type": "code",
   "execution_count": 1,
   "metadata": {},
   "outputs": [],
   "source": [
    "import os\n",
    "from PIL import Image"
   ]
  },
  {
   "cell_type": "code",
   "execution_count": 11,
   "metadata": {},
   "outputs": [],
   "source": [
    "def get_images_list(names, files):\n",
    "    \"\"\"\n",
    "    files内のnamesを含むものをlistで返す\n",
    "    names : 含んでてほしい文字列のlist\n",
    "    files : 画像名のlist\n",
    "    \"\"\"\n",
    "    output = []\n",
    "    for f_name in files:\n",
    "        for s in names:\n",
    "            if s in f_name:\n",
    "                output.append(f_name)\n",
    "                break\n",
    "    \n",
    "    return output"
   ]
  },
  {
   "cell_type": "code",
   "execution_count": 12,
   "metadata": {},
   "outputs": [],
   "source": [
    "dir_path = \"./data/images/\"\n",
    "files = os.listdir(dir_path)\n",
    "\n",
    "cat_names = [\"Maine_Coon\", \"Ragdoll\"]\n",
    "cats = get_images_list(cat_names, files)\n",
    "cats.sort()\n",
    "\n",
    "#print(cats)"
   ]
  },
  {
   "cell_type": "code",
   "execution_count": null,
   "metadata": {},
   "outputs": [],
   "source": []
  }
 ]
}