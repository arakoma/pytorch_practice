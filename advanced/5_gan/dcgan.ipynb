{
 "metadata": {
  "language_info": {
   "codemirror_mode": {
    "name": "ipython",
    "version": 3
   },
   "file_extension": ".py",
   "mimetype": "text/x-python",
   "name": "python",
   "nbconvert_exporter": "python",
   "pygments_lexer": "ipython3",
   "version": "3.6.9-final"
  },
  "orig_nbformat": 2,
  "kernelspec": {
   "name": "Python 3.6.9 64-bit",
   "display_name": "Python 3.6.9 64-bit",
   "metadata": {
    "interpreter": {
     "hash": "31f2aee4e71d21fbe5cf8b01ff0e069b9275f58929596ceb00d14d90e3e16cd6"
    }
   }
  }
 },
 "nbformat": 4,
 "nbformat_minor": 2,
 "cells": [
  {
   "cell_type": "code",
   "execution_count": 1,
   "metadata": {},
   "outputs": [
    {
     "output_type": "execute_result",
     "data": {
      "text/plain": [
       "True"
      ]
     },
     "metadata": {},
     "execution_count": 1
    }
   ],
   "source": [
    "# Dockerコンテナ動作確認\n",
    "import torch\n",
    "torch.cuda.is_available()"
   ]
  },
  {
   "source": [
    "import random\n",
    "import math\n",
    "import time\n",
    "import pandas as pd\n",
    "import numpy as np\n",
    "from PIL import Image\n",
    "\n",
    "import torch\n",
    "import torch.utils.data as data\n",
    "import torch.nn as nn\n",
    "import torch.nn.functional as F\n",
    "import torch.optim as optim\n",
    "\n",
    "from torchvision import transforms"
   ],
   "cell_type": "code",
   "metadata": {},
   "execution_count": 2,
   "outputs": []
  },
  {
   "cell_type": "code",
   "execution_count": 3,
   "metadata": {},
   "outputs": [],
   "source": [
    "# Setup seeds\n",
    "torch.manual_seed(1234)\n",
    "np.random.seed(1234)\n",
    "random.seed(1234)"
   ]
  },
  {
   "cell_type": "code",
   "execution_count": 4,
   "metadata": {},
   "outputs": [],
   "source": [
    "class Generator(nn.Module):\n",
    "\n",
    "    def __init__(self, z_dim=20, image_size=64):\n",
    "        super(Generator, self).__init__()\n",
    "\n",
    "        self.main = nn.Sequential(\n",
    "            # layer1\n",
    "            nn.ConvTranspose2d(z_dim, image_size * 8,\n",
    "                                kernel_size=4, stride=1), \n",
    "            nn.BatchNorm2d(image_size * 8), \n",
    "            nn.ReLU(inplace=True), \n",
    "\n",
    "            # layer2\n",
    "            nn.ConvTranspose2d(image_size * 8, image_size * 4,\n",
    "                                kernel_size=4, stride=2, padding=1), \n",
    "            nn.BatchNorm2d(image_size * 4), \n",
    "            nn.ReLU(inplace=True), \n",
    "\n",
    "            # layer3\n",
    "            nn.ConvTranspose2d(image_size * 4, image_size * 2, \n",
    "                                kernel_size=4, stride=2, padding=1), \n",
    "            nn.BatchNorm2d(image_size * 2), \n",
    "            nn.ReLU(inplace=True), \n",
    "\n",
    "            # layer4\n",
    "            nn.ConvTranspose2d(image_size * 2, image_size, \n",
    "                                kernel_size=4, stride=2, padding=1), \n",
    "            nn.BatchNorm2d(image_size), \n",
    "            nn.ReLU(inplace=True), \n",
    "\n",
    "            # layer last\n",
    "            nn.ConvTranspose2d(image_size, 1, \n",
    "                                kernel_size=4, stride=2, padding=1), \n",
    "            nn.Tanh()\n",
    "        )\n",
    "\n",
    "    def forward(self, z):\n",
    "        return self.main(z)\n"
   ]
  },
  {
   "cell_type": "code",
   "execution_count": 12,
   "metadata": {},
   "outputs": [
    {
     "output_type": "display_data",
     "data": {
      "text/plain": "<Figure size 432x288 with 1 Axes>",
      "image/svg+xml": "<?xml version=\"1.0\" encoding=\"utf-8\" standalone=\"no\"?>\n<!DOCTYPE svg PUBLIC \"-//W3C//DTD SVG 1.1//EN\"\n  \"http://www.w3.org/Graphics/SVG/1.1/DTD/svg11.dtd\">\n<!-- Created with matplotlib (https://matplotlib.org/) -->\n<svg height=\"250.618594pt\" version=\"1.1\" viewBox=\"0 0 251.565 250.618594\" width=\"251.565pt\" xmlns=\"http://www.w3.org/2000/svg\" xmlns:xlink=\"http://www.w3.org/1999/xlink\">\n <metadata>\n  <rdf:RDF xmlns:cc=\"http://creativecommons.org/ns#\" xmlns:dc=\"http://purl.org/dc/elements/1.1/\" xmlns:rdf=\"http://www.w3.org/1999/02/22-rdf-syntax-ns#\">\n   <cc:Work>\n    <dc:type rdf:resource=\"http://purl.org/dc/dcmitype/StillImage\"/>\n    <dc:date>2020-10-26T15:56:21.882665</dc:date>\n    <dc:format>image/svg+xml</dc:format>\n    <dc:creator>\n     <cc:Agent>\n      <dc:title>Matplotlib v3.3.2, https://matplotlib.org/</dc:title>\n     </cc:Agent>\n    </dc:creator>\n   </cc:Work>\n  </rdf:RDF>\n </metadata>\n <defs>\n  <style type=\"text/css\">*{stroke-linecap:butt;stroke-linejoin:round;}</style>\n </defs>\n <g id=\"figure_1\">\n  <g id=\"patch_1\">\n   <path d=\"M 0 250.618594 \nL 251.565 250.618594 \nL 251.565 0 \nL 0 0 \nz\n\" style=\"fill:none;\"/>\n  </g>\n  <g id=\"axes_1\">\n   <g id=\"patch_2\">\n    <path d=\"M 26.925 226.740469 \nL 244.365 226.740469 \nL 244.365 9.300469 \nL 26.925 9.300469 \nz\n\" style=\"fill:#ffffff;\"/>\n   </g>\n   <g clip-path=\"url(#pb4b6fb5382)\">\n    <image height=\"218\" id=\"image5e56a58926\" transform=\"scale(1 -1)translate(0 -218)\" width=\"218\" x=\"26.925\" xlink:href=\"data:image/png;base64,\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\" y=\"-8.740469\"/>\n   </g>\n   <g id=\"matplotlib.axis_1\">\n    <g id=\"xtick_1\">\n     <g id=\"line2d_1\">\n      <defs>\n       <path d=\"M 0 0 \nL 0 3.5 \n\" id=\"md3ae59634a\" style=\"stroke:#000000;stroke-width:0.8;\"/>\n      </defs>\n      <g>\n       <use style=\"stroke:#000000;stroke-width:0.8;\" x=\"28.62375\" xlink:href=\"#md3ae59634a\" y=\"226.740469\"/>\n      </g>\n     </g>\n     <g id=\"text_1\">\n      <!-- 0 -->\n      <g transform=\"translate(25.4425 241.338906)scale(0.1 -0.1)\">\n       <defs>\n        <path d=\"M 31.78125 66.40625 \nQ 24.171875 66.40625 20.328125 58.90625 \nQ 16.5 51.421875 16.5 36.375 \nQ 16.5 21.390625 20.328125 13.890625 \nQ 24.171875 6.390625 31.78125 6.390625 \nQ 39.453125 6.390625 43.28125 13.890625 \nQ 47.125 21.390625 47.125 36.375 \nQ 47.125 51.421875 43.28125 58.90625 \nQ 39.453125 66.40625 31.78125 66.40625 \nz\nM 31.78125 74.21875 \nQ 44.046875 74.21875 50.515625 64.515625 \nQ 56.984375 54.828125 56.984375 36.375 \nQ 56.984375 17.96875 50.515625 8.265625 \nQ 44.046875 -1.421875 31.78125 -1.421875 \nQ 19.53125 -1.421875 13.0625 8.265625 \nQ 6.59375 17.96875 6.59375 36.375 \nQ 6.59375 54.828125 13.0625 64.515625 \nQ 19.53125 74.21875 31.78125 74.21875 \nz\n\" id=\"DejaVuSans-48\"/>\n       </defs>\n       <use xlink:href=\"#DejaVuSans-48\"/>\n      </g>\n     </g>\n    </g>\n    <g id=\"xtick_2\">\n     <g id=\"line2d_2\">\n      <g>\n       <use style=\"stroke:#000000;stroke-width:0.8;\" x=\"62.59875\" xlink:href=\"#md3ae59634a\" y=\"226.740469\"/>\n      </g>\n     </g>\n     <g id=\"text_2\">\n      <!-- 10 -->\n      <g transform=\"translate(56.23625 241.338906)scale(0.1 -0.1)\">\n       <defs>\n        <path d=\"M 12.40625 8.296875 \nL 28.515625 8.296875 \nL 28.515625 63.921875 \nL 10.984375 60.40625 \nL 10.984375 69.390625 \nL 28.421875 72.90625 \nL 38.28125 72.90625 \nL 38.28125 8.296875 \nL 54.390625 8.296875 \nL 54.390625 0 \nL 12.40625 0 \nz\n\" id=\"DejaVuSans-49\"/>\n       </defs>\n       <use xlink:href=\"#DejaVuSans-49\"/>\n       <use x=\"63.623047\" xlink:href=\"#DejaVuSans-48\"/>\n      </g>\n     </g>\n    </g>\n    <g id=\"xtick_3\">\n     <g id=\"line2d_3\">\n      <g>\n       <use style=\"stroke:#000000;stroke-width:0.8;\" x=\"96.57375\" xlink:href=\"#md3ae59634a\" y=\"226.740469\"/>\n      </g>\n     </g>\n     <g id=\"text_3\">\n      <!-- 20 -->\n      <g transform=\"translate(90.21125 241.338906)scale(0.1 -0.1)\">\n       <defs>\n        <path d=\"M 19.1875 8.296875 \nL 53.609375 8.296875 \nL 53.609375 0 \nL 7.328125 0 \nL 7.328125 8.296875 \nQ 12.9375 14.109375 22.625 23.890625 \nQ 32.328125 33.6875 34.8125 36.53125 \nQ 39.546875 41.84375 41.421875 45.53125 \nQ 43.3125 49.21875 43.3125 52.78125 \nQ 43.3125 58.59375 39.234375 62.25 \nQ 35.15625 65.921875 28.609375 65.921875 \nQ 23.96875 65.921875 18.8125 64.3125 \nQ 13.671875 62.703125 7.8125 59.421875 \nL 7.8125 69.390625 \nQ 13.765625 71.78125 18.9375 73 \nQ 24.125 74.21875 28.421875 74.21875 \nQ 39.75 74.21875 46.484375 68.546875 \nQ 53.21875 62.890625 53.21875 53.421875 \nQ 53.21875 48.921875 51.53125 44.890625 \nQ 49.859375 40.875 45.40625 35.40625 \nQ 44.1875 33.984375 37.640625 27.21875 \nQ 31.109375 20.453125 19.1875 8.296875 \nz\n\" id=\"DejaVuSans-50\"/>\n       </defs>\n       <use xlink:href=\"#DejaVuSans-50\"/>\n       <use x=\"63.623047\" xlink:href=\"#DejaVuSans-48\"/>\n      </g>\n     </g>\n    </g>\n    <g id=\"xtick_4\">\n     <g id=\"line2d_4\">\n      <g>\n       <use style=\"stroke:#000000;stroke-width:0.8;\" x=\"130.54875\" xlink:href=\"#md3ae59634a\" y=\"226.740469\"/>\n      </g>\n     </g>\n     <g id=\"text_4\">\n      <!-- 30 -->\n      <g transform=\"translate(124.18625 241.338906)scale(0.1 -0.1)\">\n       <defs>\n        <path d=\"M 40.578125 39.3125 \nQ 47.65625 37.796875 51.625 33 \nQ 55.609375 28.21875 55.609375 21.1875 \nQ 55.609375 10.40625 48.1875 4.484375 \nQ 40.765625 -1.421875 27.09375 -1.421875 \nQ 22.515625 -1.421875 17.65625 -0.515625 \nQ 12.796875 0.390625 7.625 2.203125 \nL 7.625 11.71875 \nQ 11.71875 9.328125 16.59375 8.109375 \nQ 21.484375 6.890625 26.8125 6.890625 \nQ 36.078125 6.890625 40.9375 10.546875 \nQ 45.796875 14.203125 45.796875 21.1875 \nQ 45.796875 27.640625 41.28125 31.265625 \nQ 36.765625 34.90625 28.71875 34.90625 \nL 20.21875 34.90625 \nL 20.21875 43.015625 \nL 29.109375 43.015625 \nQ 36.375 43.015625 40.234375 45.921875 \nQ 44.09375 48.828125 44.09375 54.296875 \nQ 44.09375 59.90625 40.109375 62.90625 \nQ 36.140625 65.921875 28.71875 65.921875 \nQ 24.65625 65.921875 20.015625 65.03125 \nQ 15.375 64.15625 9.8125 62.3125 \nL 9.8125 71.09375 \nQ 15.4375 72.65625 20.34375 73.4375 \nQ 25.25 74.21875 29.59375 74.21875 \nQ 40.828125 74.21875 47.359375 69.109375 \nQ 53.90625 64.015625 53.90625 55.328125 \nQ 53.90625 49.265625 50.4375 45.09375 \nQ 46.96875 40.921875 40.578125 39.3125 \nz\n\" id=\"DejaVuSans-51\"/>\n       </defs>\n       <use xlink:href=\"#DejaVuSans-51\"/>\n       <use x=\"63.623047\" xlink:href=\"#DejaVuSans-48\"/>\n      </g>\n     </g>\n    </g>\n    <g id=\"xtick_5\">\n     <g id=\"line2d_5\">\n      <g>\n       <use style=\"stroke:#000000;stroke-width:0.8;\" x=\"164.52375\" xlink:href=\"#md3ae59634a\" y=\"226.740469\"/>\n      </g>\n     </g>\n     <g id=\"text_5\">\n      <!-- 40 -->\n      <g transform=\"translate(158.16125 241.338906)scale(0.1 -0.1)\">\n       <defs>\n        <path d=\"M 37.796875 64.3125 \nL 12.890625 25.390625 \nL 37.796875 25.390625 \nz\nM 35.203125 72.90625 \nL 47.609375 72.90625 \nL 47.609375 25.390625 \nL 58.015625 25.390625 \nL 58.015625 17.1875 \nL 47.609375 17.1875 \nL 47.609375 0 \nL 37.796875 0 \nL 37.796875 17.1875 \nL 4.890625 17.1875 \nL 4.890625 26.703125 \nz\n\" id=\"DejaVuSans-52\"/>\n       </defs>\n       <use xlink:href=\"#DejaVuSans-52\"/>\n       <use x=\"63.623047\" xlink:href=\"#DejaVuSans-48\"/>\n      </g>\n     </g>\n    </g>\n    <g id=\"xtick_6\">\n     <g id=\"line2d_6\">\n      <g>\n       <use style=\"stroke:#000000;stroke-width:0.8;\" x=\"198.49875\" xlink:href=\"#md3ae59634a\" y=\"226.740469\"/>\n      </g>\n     </g>\n     <g id=\"text_6\">\n      <!-- 50 -->\n      <g transform=\"translate(192.13625 241.338906)scale(0.1 -0.1)\">\n       <defs>\n        <path d=\"M 10.796875 72.90625 \nL 49.515625 72.90625 \nL 49.515625 64.59375 \nL 19.828125 64.59375 \nL 19.828125 46.734375 \nQ 21.96875 47.46875 24.109375 47.828125 \nQ 26.265625 48.1875 28.421875 48.1875 \nQ 40.625 48.1875 47.75 41.5 \nQ 54.890625 34.8125 54.890625 23.390625 \nQ 54.890625 11.625 47.5625 5.09375 \nQ 40.234375 -1.421875 26.90625 -1.421875 \nQ 22.3125 -1.421875 17.546875 -0.640625 \nQ 12.796875 0.140625 7.71875 1.703125 \nL 7.71875 11.625 \nQ 12.109375 9.234375 16.796875 8.0625 \nQ 21.484375 6.890625 26.703125 6.890625 \nQ 35.15625 6.890625 40.078125 11.328125 \nQ 45.015625 15.765625 45.015625 23.390625 \nQ 45.015625 31 40.078125 35.4375 \nQ 35.15625 39.890625 26.703125 39.890625 \nQ 22.75 39.890625 18.8125 39.015625 \nQ 14.890625 38.140625 10.796875 36.28125 \nz\n\" id=\"DejaVuSans-53\"/>\n       </defs>\n       <use xlink:href=\"#DejaVuSans-53\"/>\n       <use x=\"63.623047\" xlink:href=\"#DejaVuSans-48\"/>\n      </g>\n     </g>\n    </g>\n    <g id=\"xtick_7\">\n     <g id=\"line2d_7\">\n      <g>\n       <use style=\"stroke:#000000;stroke-width:0.8;\" x=\"232.47375\" xlink:href=\"#md3ae59634a\" y=\"226.740469\"/>\n      </g>\n     </g>\n     <g id=\"text_7\">\n      <!-- 60 -->\n      <g transform=\"translate(226.11125 241.338906)scale(0.1 -0.1)\">\n       <defs>\n        <path d=\"M 33.015625 40.375 \nQ 26.375 40.375 22.484375 35.828125 \nQ 18.609375 31.296875 18.609375 23.390625 \nQ 18.609375 15.53125 22.484375 10.953125 \nQ 26.375 6.390625 33.015625 6.390625 \nQ 39.65625 6.390625 43.53125 10.953125 \nQ 47.40625 15.53125 47.40625 23.390625 \nQ 47.40625 31.296875 43.53125 35.828125 \nQ 39.65625 40.375 33.015625 40.375 \nz\nM 52.59375 71.296875 \nL 52.59375 62.3125 \nQ 48.875 64.0625 45.09375 64.984375 \nQ 41.3125 65.921875 37.59375 65.921875 \nQ 27.828125 65.921875 22.671875 59.328125 \nQ 17.53125 52.734375 16.796875 39.40625 \nQ 19.671875 43.65625 24.015625 45.921875 \nQ 28.375 48.1875 33.59375 48.1875 \nQ 44.578125 48.1875 50.953125 41.515625 \nQ 57.328125 34.859375 57.328125 23.390625 \nQ 57.328125 12.15625 50.6875 5.359375 \nQ 44.046875 -1.421875 33.015625 -1.421875 \nQ 20.359375 -1.421875 13.671875 8.265625 \nQ 6.984375 17.96875 6.984375 36.375 \nQ 6.984375 53.65625 15.1875 63.9375 \nQ 23.390625 74.21875 37.203125 74.21875 \nQ 40.921875 74.21875 44.703125 73.484375 \nQ 48.484375 72.75 52.59375 71.296875 \nz\n\" id=\"DejaVuSans-54\"/>\n       </defs>\n       <use xlink:href=\"#DejaVuSans-54\"/>\n       <use x=\"63.623047\" xlink:href=\"#DejaVuSans-48\"/>\n      </g>\n     </g>\n    </g>\n   </g>\n   <g id=\"matplotlib.axis_2\">\n    <g id=\"ytick_1\">\n     <g id=\"line2d_8\">\n      <defs>\n       <path d=\"M 0 0 \nL -3.5 0 \n\" id=\"m05552425c0\" style=\"stroke:#000000;stroke-width:0.8;\"/>\n      </defs>\n      <g>\n       <use style=\"stroke:#000000;stroke-width:0.8;\" x=\"26.925\" xlink:href=\"#m05552425c0\" y=\"10.999219\"/>\n      </g>\n     </g>\n     <g id=\"text_8\">\n      <!-- 0 -->\n      <g transform=\"translate(13.5625 14.798437)scale(0.1 -0.1)\">\n       <use xlink:href=\"#DejaVuSans-48\"/>\n      </g>\n     </g>\n    </g>\n    <g id=\"ytick_2\">\n     <g id=\"line2d_9\">\n      <g>\n       <use style=\"stroke:#000000;stroke-width:0.8;\" x=\"26.925\" xlink:href=\"#m05552425c0\" y=\"44.974219\"/>\n      </g>\n     </g>\n     <g id=\"text_9\">\n      <!-- 10 -->\n      <g transform=\"translate(7.2 48.773437)scale(0.1 -0.1)\">\n       <use xlink:href=\"#DejaVuSans-49\"/>\n       <use x=\"63.623047\" xlink:href=\"#DejaVuSans-48\"/>\n      </g>\n     </g>\n    </g>\n    <g id=\"ytick_3\">\n     <g id=\"line2d_10\">\n      <g>\n       <use style=\"stroke:#000000;stroke-width:0.8;\" x=\"26.925\" xlink:href=\"#m05552425c0\" y=\"78.949219\"/>\n      </g>\n     </g>\n     <g id=\"text_10\">\n      <!-- 20 -->\n      <g transform=\"translate(7.2 82.748437)scale(0.1 -0.1)\">\n       <use xlink:href=\"#DejaVuSans-50\"/>\n       <use x=\"63.623047\" xlink:href=\"#DejaVuSans-48\"/>\n      </g>\n     </g>\n    </g>\n    <g id=\"ytick_4\">\n     <g id=\"line2d_11\">\n      <g>\n       <use style=\"stroke:#000000;stroke-width:0.8;\" x=\"26.925\" xlink:href=\"#m05552425c0\" y=\"112.924219\"/>\n      </g>\n     </g>\n     <g id=\"text_11\">\n      <!-- 30 -->\n      <g transform=\"translate(7.2 116.723437)scale(0.1 -0.1)\">\n       <use xlink:href=\"#DejaVuSans-51\"/>\n       <use x=\"63.623047\" xlink:href=\"#DejaVuSans-48\"/>\n      </g>\n     </g>\n    </g>\n    <g id=\"ytick_5\">\n     <g id=\"line2d_12\">\n      <g>\n       <use style=\"stroke:#000000;stroke-width:0.8;\" x=\"26.925\" xlink:href=\"#m05552425c0\" y=\"146.899219\"/>\n      </g>\n     </g>\n     <g id=\"text_12\">\n      <!-- 40 -->\n      <g transform=\"translate(7.2 150.698437)scale(0.1 -0.1)\">\n       <use xlink:href=\"#DejaVuSans-52\"/>\n       <use x=\"63.623047\" xlink:href=\"#DejaVuSans-48\"/>\n      </g>\n     </g>\n    </g>\n    <g id=\"ytick_6\">\n     <g id=\"line2d_13\">\n      <g>\n       <use style=\"stroke:#000000;stroke-width:0.8;\" x=\"26.925\" xlink:href=\"#m05552425c0\" y=\"180.874219\"/>\n      </g>\n     </g>\n     <g id=\"text_13\">\n      <!-- 50 -->\n      <g transform=\"translate(7.2 184.673437)scale(0.1 -0.1)\">\n       <use xlink:href=\"#DejaVuSans-53\"/>\n       <use x=\"63.623047\" xlink:href=\"#DejaVuSans-48\"/>\n      </g>\n     </g>\n    </g>\n    <g id=\"ytick_7\">\n     <g id=\"line2d_14\">\n      <g>\n       <use style=\"stroke:#000000;stroke-width:0.8;\" x=\"26.925\" xlink:href=\"#m05552425c0\" y=\"214.849219\"/>\n      </g>\n     </g>\n     <g id=\"text_14\">\n      <!-- 60 -->\n      <g transform=\"translate(7.2 218.648437)scale(0.1 -0.1)\">\n       <use xlink:href=\"#DejaVuSans-54\"/>\n       <use x=\"63.623047\" xlink:href=\"#DejaVuSans-48\"/>\n      </g>\n     </g>\n    </g>\n   </g>\n   <g id=\"patch_3\">\n    <path d=\"M 26.925 226.740469 \nL 26.925 9.300469 \n\" style=\"fill:none;stroke:#000000;stroke-linecap:square;stroke-linejoin:miter;stroke-width:0.8;\"/>\n   </g>\n   <g id=\"patch_4\">\n    <path d=\"M 244.365 226.740469 \nL 244.365 9.300469 \n\" style=\"fill:none;stroke:#000000;stroke-linecap:square;stroke-linejoin:miter;stroke-width:0.8;\"/>\n   </g>\n   <g id=\"patch_5\">\n    <path d=\"M 26.925 226.740469 \nL 244.365 226.740469 \n\" style=\"fill:none;stroke:#000000;stroke-linecap:square;stroke-linejoin:miter;stroke-width:0.8;\"/>\n   </g>\n   <g id=\"patch_6\">\n    <path d=\"M 26.925 9.300469 \nL 244.365 9.300469 \n\" style=\"fill:none;stroke:#000000;stroke-linecap:square;stroke-linejoin:miter;stroke-width:0.8;\"/>\n   </g>\n  </g>\n </g>\n <defs>\n  <clipPath id=\"pb4b6fb5382\">\n   <rect height=\"217.44\" width=\"217.44\" x=\"26.925\" y=\"9.300469\"/>\n  </clipPath>\n </defs>\n</svg>\n",
      "image/png": "[encoded data removed]"
     },
     "metadata": {
      "needs_background": "light"
     }
    }
   ],
   "source": [
    "# Generator 動作確認\n",
    "import matplotlib.pyplot as plt\n",
    "%matplotlib inline\n",
    "\n",
    "G = Generator(20, 64)\n",
    "\n",
    "# 入力する乱数, channel(z_dim)に1個ずつ乱数あげる\n",
    "input_z = torch.randn(1, 20)\n",
    "input_z = input_z.view(1, 20, 1, 1)#(N, C, H, W)\n",
    "\n",
    "# 画像出力\n",
    "fake_images = G(input_z)\n",
    "\n",
    "img_transformed = fake_images[0][0].detach().numpy()\n",
    "plt.imshow(img_transformed, \"gray\")\n",
    "# imshowの引数とか https://matplotlib.org/3.1.1/api/_as_gen/matplotlib.pyplot.imshow.html\n",
    "plt.show()"
   ]
  },
  {
   "cell_type": "code",
   "execution_count": 6,
   "metadata": {},
   "outputs": [],
   "source": [
    "class Discriminator(nn.Module):\n",
    "\n",
    "    def __init__(self, z_dim=20, image_size=64):\n",
    "        super(Discriminator, self).__init__()\n",
    "\n",
    "        self.main = nn.Sequential(\n",
    "            # layer1\n",
    "            nn.Conv2d(1, image_size, \n",
    "                        kernel_size=4, stride=2, padding=1), \n",
    "            nn.LeakyReLU(0.1, inplace=True), \n",
    "\n",
    "            # layer2\n",
    "            nn.Conv2d(image_size, image_size * 2, \n",
    "                        kernel_size=4, stride=2, padding=1), \n",
    "            nn.LeakyReLU(0.1, inplace=True),  \n",
    "\n",
    "            # layer3\n",
    "            nn.Conv2d(image_size * 2, image_size * 4, \n",
    "                        kernel_size=4, stride=2, padding=1), \n",
    "            nn.LeakyReLU(0.1, inplace=True), \n",
    "            \n",
    "            # layer4\n",
    "            nn.Conv2d(image_size * 4, image_size * 8, \n",
    "                        kernel_size=4, stride=2, padding=1), \n",
    "            nn.LeakyReLU(0.1, inplace=True), \n",
    "\n",
    "            # layer last\n",
    "            nn.Conv2d(image_size * 8, 1, \n",
    "                        kernel_size=4, stride=1), \n",
    "            nn.Sigmoid()\n",
    "        )\n",
    "    \n",
    "    def forward(self, x):\n",
    "        return self.main(x)\n",
    "    \n",
    "\n",
    "    # 本の実装だとnn.Sigmoid()ないけど, nn.BCEWithLogitsLoss()がロジスティック関数(=sigmoid関数)を含んでるらしい\n",
    "    # https://pytorch.org/docs/stable/generated/torch.nn.BCEWithLogitsLoss.html\n",
    "    # https://pytorch.org/docs/stable/generated/torch.nn.BCELoss.html\n",
    "    # 公式の DCGAN tutorial だとDiscriminator内でsigmoidかけてて, 損失関数がnn.BCELoss()になってる\n",
    "    # https://pytorch.org/tutorials/beginner/dcgan_faces_tutorial.html#loss-functions-and-optimizers"
   ]
  },
  {
   "cell_type": "code",
   "execution_count": 7,
   "metadata": {},
   "outputs": [
    {
     "output_type": "stream",
     "name": "stdout",
     "text": [
      "tensor([[[[0.5066]]]], grad_fn=<SigmoidBackward>)\n"
     ]
    }
   ],
   "source": [
    "# 動作確認\n",
    "D = Discriminator(z_dim=20, image_size=64)\n",
    "\n",
    "# 偽画像を生成\n",
    "input_z = torch.randn(1, 20)\n",
    "input_z = input_z.view(input_z.size(0), input_z.size(1), 1, 1)\n",
    "fake_images = G(input_z)\n",
    "\n",
    "# 偽画像をDに入力\n",
    "d_out = D(fake_images)\n",
    "\n",
    "#学習前なので0.5くらいが出る\n",
    "print(d_out)"
   ]
  },
  {
   "cell_type": "code",
   "execution_count": 11,
   "metadata": {},
   "outputs": [
    {
     "output_type": "error",
     "ename": "NameError",
     "evalue": "name 'x' is not defined",
     "traceback": [
      "\u001b[0;31m---------------------------------------------------------------------------\u001b[0m",
      "\u001b[0;31mNameError\u001b[0m                                 Traceback (most recent call last)",
      "\u001b[0;32m<ipython-input-11-7f7a7edc0cbd>\u001b[0m in \u001b[0;36m<module>\u001b[0;34m\u001b[0m\n\u001b[1;32m     16\u001b[0m \u001b[0mcriterion\u001b[0m \u001b[0;34m=\u001b[0m \u001b[0mnn\u001b[0m\u001b[0;34m.\u001b[0m\u001b[0mBCELoss\u001b[0m\u001b[0;34m(\u001b[0m\u001b[0mreduction\u001b[0m\u001b[0;34m=\u001b[0m\u001b[0;34m\"mean\"\u001b[0m\u001b[0;34m)\u001b[0m\u001b[0;34m\u001b[0m\u001b[0;34m\u001b[0m\u001b[0m\n\u001b[1;32m     17\u001b[0m \u001b[0;31m# 本物画像で判定\u001b[0m\u001b[0;34m\u001b[0m\u001b[0;34m\u001b[0m\u001b[0;34m\u001b[0m\u001b[0m\n\u001b[0;32m---> 18\u001b[0;31m \u001b[0md_out_real\u001b[0m \u001b[0;34m=\u001b[0m \u001b[0mD\u001b[0m\u001b[0;34m(\u001b[0m\u001b[0mx\u001b[0m\u001b[0;34m)\u001b[0m\u001b[0;34m\u001b[0m\u001b[0;34m\u001b[0m\u001b[0m\n\u001b[0m\u001b[1;32m     19\u001b[0m \u001b[0;31m# 偽画像を生成して判定\u001b[0m\u001b[0;34m\u001b[0m\u001b[0;34m\u001b[0m\u001b[0;34m\u001b[0m\u001b[0m\n\u001b[1;32m     20\u001b[0m \u001b[0minput_z\u001b[0m \u001b[0;34m=\u001b[0m \u001b[0mtorch\u001b[0m\u001b[0;34m.\u001b[0m\u001b[0mrandn\u001b[0m\u001b[0;34m(\u001b[0m\u001b[0mmini_batch_size\u001b[0m\u001b[0;34m,\u001b[0m \u001b[0;36m20\u001b[0m\u001b[0;34m)\u001b[0m\u001b[0;34m\u001b[0m\u001b[0;34m\u001b[0m\u001b[0m\n",
      "\u001b[0;31mNameError\u001b[0m: name 'x' is not defined"
     ]
    }
   ],
   "source": [
    "\"\"\"\n",
    "D の loss func\n",
    "l: Dへの入力が偽画像(G(z))なら0, 本物なら1\n",
    "minmize [- (l * log(D(x)) + (1 - l) * log(1 - D(G(x))))]\n",
    "これのミニバッチでの平均とる\n",
    "\"\"\"\n",
    "# 以下、誤差計算までの例\n",
    "# xが未定義だからerrorでるよ。あくまでこんな感じってだけ。\n",
    "\n",
    "mini_batch_size = 2\n",
    "# 正解ラベル\n",
    "label_real = torch.full((mini_batch_size,), 1.0,)\n",
    "# 偽ラベル\n",
    "label_fake = torch.full((mini_batch_size,), 0.0,)\n",
    "# loss func 定義\n",
    "criterion = nn.BCELoss(reduction=\"mean\")\n",
    "# 本物画像で判定\n",
    "d_out_real = D(x)\n",
    "# 偽画像を生成して判定\n",
    "input_z = torch.randn(mini_batch_size, 20)\n",
    "input_z = input_z.view(input_z.size(0), input_z.size(1), 1, 1)\n",
    "fake_images = G(input_z)\n",
    "d_out_fake = D(fake_images)\n",
    "# 誤差計算\n",
    "d_loss_real = criterion(d_out_real.view(-1), label_real)\n",
    "d_loss_fake = criterion(d_out_fake.view(-1), label_fake)\n",
    "d_loss = d_loss_real + d_loss_fake\n",
    "\n",
    "\n",
    "\"\"\"\n",
    "G の loss func\n",
    "minmize [- log(D(G(z)))]\n",
    "これのミニバッチでの平均とる\n",
    "\"\"\"\n",
    "# 以下、誤差計算例\n",
    "# xが未定義だからerrorでるよ。あくまでこんな感じてだけ。\n",
    "\n",
    "# 偽画像を生成して判定\n",
    "input_z = torch.randn(mini_batch_size, 20)\n",
    "input_z = input_z.view(input_z.size(0), input_z.size(1), 1, 1)\n",
    "fake_images = G(input_z)\n",
    "d_out_fake = D(fake_images)\n",
    "# 誤差計算#BCEの - l * log(D(x))の部分と同じだからこう書いてるよ\n",
    "g_loss = criterion(d_out_fake.view(-1), label_real)"
   ]
  },
  {
   "cell_type": "code",
   "execution_count": null,
   "metadata": {},
   "outputs": [],
   "source": []
  }
 ]
}