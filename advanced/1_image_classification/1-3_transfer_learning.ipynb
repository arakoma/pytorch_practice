{
 "cells": [
  {
   "cell_type": "markdown",
   "metadata": {},
   "source": [
    "## 1-3 転移学習の実装\n",
    "\n",
    "vggの転移学習で自前データ（今回はオープンのやつ）の画像分類モデルつくる  \n",
    "  \n",
    "### やること\n",
    "- dataset作成 \n",
    "- dataloader作成 (batchごとにデータ取り出す)\n",
    "- 学習済みモデルの出力層の変更 (転移前とでデータ違う、クラス数も違う、ので)\n",
    "- 出力層付近のパラメータだけ学習させる (特徴抽出はそのまま)"
   ]
  },
  {
   "cell_type": "code",
   "execution_count": null,
   "metadata": {},
   "outputs": [],
   "source": []
  },
  {
   "cell_type": "code",
   "execution_count": null,
   "metadata": {},
   "outputs": [],
   "source": []
  }
 ],
 "metadata": {
  "kernelspec": {
   "display_name": "Python 3",
   "language": "python",
   "name": "python3"
  },
  "language_info": {
   "codemirror_mode": {
    "name": "ipython",
    "version": 3
   },
   "file_extension": ".py",
   "mimetype": "text/x-python",
   "name": "python",
   "nbconvert_exporter": "python",
   "pygments_lexer": "ipython3",
   "version": "3.6.9"
  }
 },
 "nbformat": 4,
 "nbformat_minor": 4
}
