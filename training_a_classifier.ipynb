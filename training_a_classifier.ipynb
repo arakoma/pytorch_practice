{
  "nbformat": 4,
  "nbformat_minor": 0,
  "metadata": {
    "colab": {
      "name": "training_a_classifier.ipynb",
      "provenance": [],
      "authorship_tag": "ABX9TyOvGheCWurFWSH0Tq3XQAdk",
      "include_colab_link": true
    },
    "kernelspec": {
      "name": "python3",
      "display_name": "Python 3"
    },
    "accelerator": "GPU"
  },
  "cells": [
    {
      "cell_type": "markdown",
      "metadata": {
        "id": "view-in-github",
        "colab_type": "text"
      },
      "source": [
        "<a href=\"https://colab.research.google.com/github/arakoma/pytorch_practice/blob/master/training_a_classifier.ipynb\" target=\"_parent\"><img src=\"https://colab.research.google.com/assets/colab-badge.svg\" alt=\"Open In Colab\"/></a>"
      ]
    },
    {
      "cell_type": "code",
      "metadata": {
        "id": "6X47hzleiFgh",
        "colab_type": "code",
        "colab": {}
      },
      "source": [
        "import torch\n",
        "import torchvision\n",
        "import torchvision.transforms as transforms"
      ],
      "execution_count": 0,
      "outputs": []
    },
    {
      "cell_type": "markdown",
      "metadata": {
        "id": "LoY2g_YI3PJv",
        "colab_type": "text"
      },
      "source": [
        "1.dataset ダウンロード"
      ]
    },
    {
      "cell_type": "code",
      "metadata": {
        "id": "ONBU86Qej0mU",
        "colab_type": "code",
        "colab": {
          "base_uri": "https://localhost:8080/",
          "height": 52
        },
        "outputId": "de6e7bf3-4478-4e5d-ae60-6de67c1d7950"
      },
      "source": [
        "# dataset\n",
        "\n",
        "# 変換方法はComposeに入れる\n",
        "# 画素値[0,1]を[-1,1]にする\n",
        "transform = transforms.Compose([\n",
        "    transforms.ToTensor(),\n",
        "    transforms.Normalize((0.5, 0.5, 0.5), (0.5, 0.5, 0.5))\n",
        "    ])\n",
        "\n",
        "trainset = torchvision.datasets.CIFAR10(root=\"./data\", train=True,\n",
        "                                       download=True, transform=transform)\n",
        "trainloader = torch.utils.data.DataLoader(trainset, batch_size=4,\n",
        "                                          shuffle=True, num_workers=2)\n",
        "\n",
        "testset = torchvision.datasets.CIFAR10(root=\"./data\", train=False,\n",
        "                                       download=True, transform=transform)\n",
        "trainloader = torch.utils.data.DataLoader(trainset, batch_size=4,\n",
        "                                          shuffle=False, num_workers=2)\n",
        "\n",
        "classes = ('plane', 'car', 'bird', 'cat',\n",
        "           'deer', 'dog', 'frog', 'horse', 'ship', 'truck')"
      ],
      "execution_count": 26,
      "outputs": [
        {
          "output_type": "stream",
          "text": [
            "Files already downloaded and verified\n",
            "Files already downloaded and verified\n"
          ],
          "name": "stdout"
        }
      ]
    },
    {
      "cell_type": "markdown",
      "metadata": {
        "id": "PL9neBXl3Z8u",
        "colab_type": "text"
      },
      "source": [
        "datasetみてみる"
      ]
    },
    {
      "cell_type": "code",
      "metadata": {
        "id": "jjcOrrbl1sQn",
        "colab_type": "code",
        "colab": {
          "base_uri": "https://localhost:8080/",
          "height": 209
        },
        "outputId": "4f9e9765-166a-465b-86c2-5c1b02da7a30"
      },
      "source": [
        "import matplotlib.pyplot as plt\n",
        "import numpy as np\n",
        "\n",
        "\n",
        "def imshow(img):\n",
        "    img = img / 2 + 0.5#[-1,1]から[0,1]に戻す\n",
        "    npimg = np.array(img)\n",
        "    plt.imshow(np.transpose(npimg, (1, 2, 0)))\n",
        "    plt.show()\n",
        "\n",
        "\n",
        "dataiter = iter(trainloader)\n",
        "images, labels = dataiter.next()\n",
        "\n",
        "imshow(torchvision.utils.make_grid(images))\n",
        "for x in labels:\n",
        "    print(classes[x])"
      ],
      "execution_count": 27,
      "outputs": [
        {
          "output_type": "display_data",
          "data": {
            "image/png": "[encoded data removed]",
            "text/plain": [
              "<Figure size 432x288 with 1 Axes>"
            ]
          },
          "metadata": {
            "tags": []
          }
        },
        {
          "output_type": "stream",
          "text": [
            "frog\n",
            "truck\n",
            "truck\n",
            "deer\n"
          ],
          "name": "stdout"
        }
      ]
    },
    {
      "cell_type": "markdown",
      "metadata": {
        "id": "dBJ1RJ-r-DxT",
        "colab_type": "text"
      },
      "source": [
        "2.CNN定義"
      ]
    },
    {
      "cell_type": "code",
      "metadata": {
        "id": "0r8eeF6k8Ezd",
        "colab_type": "code",
        "colab": {}
      },
      "source": [
        "import torch.nn as nn\n",
        "import torch.nn.functional as F\n",
        "\n",
        "\n",
        "class Net(nn.Module):\n",
        "    def __init__(self):\n",
        "        super(Net, self).__init__()\n",
        "        self.conv1 = nn.Conv2d(3, 6, 5)\n",
        "        self.pool = nn.MaxPool2d(2, 2)\n",
        "        self.conv2 = nn.Conv2d(6, 16, 5)\n",
        "        self.fc1 = nn.Linear(16 * 5 * 5, 120)\n",
        "        self.fc2 = nn.Linear(120, 84)\n",
        "        self.fc3 = nn.Linear(84, 10)\n",
        "\n",
        "    def forward(self, x):\n",
        "        x = self.pool(F.relu(self.conv1(x)))\n",
        "        x = self.pool(F.relu(self.conv2(x)))\n",
        "        x = x.view(-1, 16 * 5 * 5)\n",
        "        x = F.relu(self.fc1(x))\n",
        "        x = F.relu(self.fc2(x))\n",
        "        x = self.fc3(x)\n",
        "        return x\n",
        "\n",
        "\n",
        "net = Net()"
      ],
      "execution_count": 0,
      "outputs": []
    },
    {
      "cell_type": "markdown",
      "metadata": {
        "id": "A3LLORsIDUBQ",
        "colab_type": "text"
      },
      "source": [
        "gpu使えるか確認  \n",
        "NNをgpuで設定"
      ]
    },
    {
      "cell_type": "code",
      "metadata": {
        "id": "2950SH5HDRgC",
        "colab_type": "code",
        "colab": {
          "base_uri": "https://localhost:8080/",
          "height": 34
        },
        "outputId": "62d03929-b4e3-4de8-fab2-749505a7e953"
      },
      "source": [
        "device = torch.device(\"cuda:0\" if torch.cuda.is_available() else \"cpu\")\n",
        "print(device)"
      ],
      "execution_count": 29,
      "outputs": [
        {
          "output_type": "stream",
          "text": [
            "cuda:0\n"
          ],
          "name": "stdout"
        }
      ]
    },
    {
      "cell_type": "code",
      "metadata": {
        "id": "mRCZkkZADvjK",
        "colab_type": "code",
        "colab": {
          "base_uri": "https://localhost:8080/",
          "height": 158
        },
        "outputId": "83c34bfb-f467-4c79-c409-f56184d50e09"
      },
      "source": [
        "net.to(\"cuda:0\")"
      ],
      "execution_count": 30,
      "outputs": [
        {
          "output_type": "execute_result",
          "data": {
            "text/plain": [
              "Net(\n",
              "  (conv1): Conv2d(3, 6, kernel_size=(5, 5), stride=(1, 1))\n",
              "  (pool): MaxPool2d(kernel_size=2, stride=2, padding=0, dilation=1, ceil_mode=False)\n",
              "  (conv2): Conv2d(6, 16, kernel_size=(5, 5), stride=(1, 1))\n",
              "  (fc1): Linear(in_features=400, out_features=120, bias=True)\n",
              "  (fc2): Linear(in_features=120, out_features=84, bias=True)\n",
              "  (fc3): Linear(in_features=84, out_features=10, bias=True)\n",
              ")"
            ]
          },
          "metadata": {
            "tags": []
          },
          "execution_count": 30
        }
      ]
    },
    {
      "cell_type": "markdown",
      "metadata": {
        "id": "Ptk2zzTvE96K",
        "colab_type": "text"
      },
      "source": [
        "3.loss function , 最適化方法 を定義"
      ]
    },
    {
      "cell_type": "code",
      "metadata": {
        "id": "1Dsy9ohLEmUi",
        "colab_type": "code",
        "colab": {}
      },
      "source": [
        "import torch.optim as optim\n",
        "\n",
        "\n",
        "criterion = nn.CrossEntropyLoss()\n",
        "optimizer = optim.SGD(net.parameters(), lr=0.001, momentum=0.9)"
      ],
      "execution_count": 0,
      "outputs": []
    },
    {
      "cell_type": "markdown",
      "metadata": {
        "id": "JJ1cdb9jHuh6",
        "colab_type": "text"
      },
      "source": [
        "4.train the network"
      ]
    },
    {
      "cell_type": "code",
      "metadata": {
        "id": "he77KILuJY-c",
        "colab_type": "code",
        "colab": {
          "base_uri": "https://localhost:8080/",
          "height": 246
        },
        "outputId": "8f32e408-1ff2-4411-f2fb-9cb875360f9f"
      },
      "source": [
        "for epoch in range(2):\n",
        "\n",
        "    running_loss = 0.0\n",
        "    for i, data in enumerate(trainloader, 1):\n",
        "        # data 受取,入力もcudaに送る\n",
        "        inputs, labels = data[0].to(\"cuda:0\"), data[1].to(\"cuda:0\")\n",
        "        \"\"\"\n",
        "        # gpu使わない場合は\n",
        "        inputs, labels = data\n",
        "        \"\"\"\n",
        "\n",
        "        # gradients を初期化\n",
        "        optimizer.zero_grad()\n",
        "\n",
        "        # 学習(forward, backward, optimize)\n",
        "        outputs = net(inputs)#NN通す\n",
        "        loss = criterion(outputs, labels)#loss計算\n",
        "        loss.backward()#逆伝播\n",
        "        optimizer.step()#更新\n",
        "\n",
        "        # 経過をprint(2000 mini batches ごとの平均をprint)\n",
        "        running_loss += loss.item()#.item()で値取り出し\n",
        "        if i % 2000 == 0:\n",
        "            print(epoch+1, i, running_loss / 2000)\n",
        "            running_loss = 0.0\n",
        "\n",
        "print(\"Finished Training!!!\")"
      ],
      "execution_count": 36,
      "outputs": [
        {
          "output_type": "stream",
          "text": [
            "1 2000 1.2208847863823176\n",
            "1 4000 1.2107066641747952\n",
            "1 6000 1.18320825047791\n",
            "1 8000 1.1515650821328163\n",
            "1 10000 1.1775240558385849\n",
            "1 12000 1.144639410570264\n",
            "2 2000 1.1167708679884671\n",
            "2 4000 1.1027060455679893\n",
            "2 6000 1.0769409164488315\n",
            "2 8000 1.0625406352877618\n",
            "2 10000 1.0731304884254933\n",
            "2 12000 1.052148526072502\n",
            "Finished Training!!!\n"
          ],
          "name": "stdout"
        }
      ]
    },
    {
      "cell_type": "markdown",
      "metadata": {
        "id": "Erh8I6LYbpZg",
        "colab_type": "text"
      },
      "source": [
        "modelを保存"
      ]
    },
    {
      "cell_type": "code",
      "metadata": {
        "id": "1PjEMuKZWmVQ",
        "colab_type": "code",
        "colab": {}
      },
      "source": [
        ""
      ],
      "execution_count": 0,
      "outputs": []
    }
  ]
}