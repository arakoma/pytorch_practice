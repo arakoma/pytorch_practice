{
  "nbformat": 4,
  "nbformat_minor": 0,
  "metadata": {
    "colab": {
      "name": "training_a_classifier.ipynb",
      "provenance": [],
      "authorship_tag": "ABX9TyPHD9S8bKNHS6tnNsToIF/N",
      "include_colab_link": true
    },
    "kernelspec": {
      "name": "python3",
      "display_name": "Python 3"
    },
    "accelerator": "GPU"
  },
  "cells": [
    {
      "cell_type": "markdown",
      "metadata": {
        "id": "view-in-github",
        "colab_type": "text"
      },
      "source": [
        "<a href=\"https://colab.research.google.com/github/arakoma/pytorch_practice/blob/master/training_a_classifier.ipynb\" target=\"_parent\"><img src=\"https://colab.research.google.com/assets/colab-badge.svg\" alt=\"Open In Colab\"/></a>"
      ]
    },
    {
      "cell_type": "code",
      "metadata": {
        "id": "6X47hzleiFgh",
        "colab_type": "code",
        "colab": {}
      },
      "source": [
        "import torch\n",
        "import torchvision\n",
        "import torchvision.transforms as transforms"
      ],
      "execution_count": 0,
      "outputs": []
    },
    {
      "cell_type": "markdown",
      "metadata": {
        "id": "LoY2g_YI3PJv",
        "colab_type": "text"
      },
      "source": [
        "1.dataset ダウンロード"
      ]
    },
    {
      "cell_type": "code",
      "metadata": {
        "id": "ONBU86Qej0mU",
        "colab_type": "code",
        "colab": {
          "base_uri": "https://localhost:8080/",
          "height": 52
        },
        "outputId": "44c78a51-e57f-4972-ce15-d15f46646231"
      },
      "source": [
        "# dataset\n",
        "\n",
        "# 変換方法はComposeに入れる\n",
        "# 画素値[0,1]を[-1,1]にする\n",
        "transform = transforms.Compose([\n",
        "    transforms.ToTensor(),\n",
        "    transforms.Normalize((0.5, 0.5, 0.5), (0.5, 0.5, 0.5))\n",
        "    ])\n",
        "\n",
        "trainset = torchvision.datasets.CIFAR10(root=\"./data\", train=True,\n",
        "                                       download=True, transform=transform)\n",
        "trainloader = torch.utils.data.DataLoader(trainset, batch_size=4,\n",
        "                                          shuffle=True, num_workers=2)\n",
        "\n",
        "testset = torchvision.datasets.CIFAR10(root=\"./data\", train=False,\n",
        "                                       download=True, transform=transform)\n",
        "testloader = torch.utils.data.DataLoader(testset, batch_size=4,\n",
        "                                          shuffle=False, num_workers=2)\n",
        "\n",
        "classes = ('plane', 'car', 'bird', 'cat',\n",
        "           'deer', 'dog', 'frog', 'horse', 'ship', 'truck')"
      ],
      "execution_count": 67,
      "outputs": [
        {
          "output_type": "stream",
          "text": [
            "Files already downloaded and verified\n",
            "Files already downloaded and verified\n"
          ],
          "name": "stdout"
        }
      ]
    },
    {
      "cell_type": "markdown",
      "metadata": {
        "id": "PL9neBXl3Z8u",
        "colab_type": "text"
      },
      "source": [
        "datasetみてみる"
      ]
    },
    {
      "cell_type": "code",
      "metadata": {
        "id": "jjcOrrbl1sQn",
        "colab_type": "code",
        "colab": {
          "base_uri": "https://localhost:8080/",
          "height": 209
        },
        "outputId": "6ff5e4d8-93dc-4b0f-8681-a16bcd9ef332"
      },
      "source": [
        "import matplotlib.pyplot as plt\n",
        "import numpy as np\n",
        "\n",
        "\n",
        "def imshow(img):\n",
        "    img = img / 2 + 0.5#[-1,1]から[0,1]に戻す\n",
        "    npimg = np.array(img)\n",
        "    plt.imshow(np.transpose(npimg, (1, 2, 0)))\n",
        "    plt.show()\n",
        "\n",
        "\n",
        "dataiter = iter(trainloader)\n",
        "images, labels = dataiter.next()\n",
        "\n",
        "imshow(torchvision.utils.make_grid(images))\n",
        "for x in labels:\n",
        "    print(classes[x])"
      ],
      "execution_count": 58,
      "outputs": [
        {
          "output_type": "display_data",
          "data": {
            "image/png": "[encoded data removed]",
            "text/plain": [
              "<Figure size 432x288 with 1 Axes>"
            ]
          },
          "metadata": {
            "tags": []
          }
        },
        {
          "output_type": "stream",
          "text": [
            "truck\n",
            "frog\n",
            "truck\n",
            "car\n"
          ],
          "name": "stdout"
        }
      ]
    },
    {
      "cell_type": "markdown",
      "metadata": {
        "id": "dBJ1RJ-r-DxT",
        "colab_type": "text"
      },
      "source": [
        "2.CNN定義"
      ]
    },
    {
      "cell_type": "code",
      "metadata": {
        "id": "0r8eeF6k8Ezd",
        "colab_type": "code",
        "colab": {}
      },
      "source": [
        "import torch.nn as nn\n",
        "import torch.nn.functional as F\n",
        "\n",
        "\n",
        "class Net(nn.Module):\n",
        "    def __init__(self):\n",
        "        super(Net, self).__init__()\n",
        "        self.conv1 = nn.Conv2d(3, 6, 5)\n",
        "        self.pool = nn.MaxPool2d(2, 2)\n",
        "        self.conv2 = nn.Conv2d(6, 16, 5)\n",
        "        self.fc1 = nn.Linear(16 * 5 * 5, 120)\n",
        "        self.fc2 = nn.Linear(120, 84)\n",
        "        self.fc3 = nn.Linear(84, 10)\n",
        "\n",
        "    def forward(self, x):\n",
        "        x = self.pool(F.relu(self.conv1(x)))\n",
        "        x = self.pool(F.relu(self.conv2(x)))\n",
        "        x = x.view(-1, 16 * 5 * 5)\n",
        "        x = F.relu(self.fc1(x))\n",
        "        x = F.relu(self.fc2(x))\n",
        "        x = self.fc3(x)\n",
        "        return x\n",
        "\n",
        "\n",
        "net = Net()"
      ],
      "execution_count": 0,
      "outputs": []
    },
    {
      "cell_type": "markdown",
      "metadata": {
        "id": "A3LLORsIDUBQ",
        "colab_type": "text"
      },
      "source": [
        "gpu使えるか確認  \n",
        "NNをgpuで設定"
      ]
    },
    {
      "cell_type": "code",
      "metadata": {
        "id": "2950SH5HDRgC",
        "colab_type": "code",
        "colab": {
          "base_uri": "https://localhost:8080/",
          "height": 34
        },
        "outputId": "e8da004b-f40e-4e70-9c67-97844c15937c"
      },
      "source": [
        "device = torch.device(\"cuda:0\" if torch.cuda.is_available() else \"cpu\")\n",
        "print(device)"
      ],
      "execution_count": 73,
      "outputs": [
        {
          "output_type": "stream",
          "text": [
            "cuda:0\n"
          ],
          "name": "stdout"
        }
      ]
    },
    {
      "cell_type": "code",
      "metadata": {
        "id": "mRCZkkZADvjK",
        "colab_type": "code",
        "colab": {
          "base_uri": "https://localhost:8080/",
          "height": 158
        },
        "outputId": "b5dc20c1-6c3b-4701-9f4a-3ff787221b69"
      },
      "source": [
        "net.to(\"cuda:0\")"
      ],
      "execution_count": 74,
      "outputs": [
        {
          "output_type": "execute_result",
          "data": {
            "text/plain": [
              "Net(\n",
              "  (conv1): Conv2d(3, 6, kernel_size=(5, 5), stride=(1, 1))\n",
              "  (pool): MaxPool2d(kernel_size=2, stride=2, padding=0, dilation=1, ceil_mode=False)\n",
              "  (conv2): Conv2d(6, 16, kernel_size=(5, 5), stride=(1, 1))\n",
              "  (fc1): Linear(in_features=400, out_features=120, bias=True)\n",
              "  (fc2): Linear(in_features=120, out_features=84, bias=True)\n",
              "  (fc3): Linear(in_features=84, out_features=10, bias=True)\n",
              ")"
            ]
          },
          "metadata": {
            "tags": []
          },
          "execution_count": 74
        }
      ]
    },
    {
      "cell_type": "markdown",
      "metadata": {
        "id": "Ptk2zzTvE96K",
        "colab_type": "text"
      },
      "source": [
        "3.loss function , 最適化方法 を定義"
      ]
    },
    {
      "cell_type": "code",
      "metadata": {
        "id": "1Dsy9ohLEmUi",
        "colab_type": "code",
        "colab": {}
      },
      "source": [
        "import torch.optim as optim\n",
        "\n",
        "\n",
        "criterion = nn.CrossEntropyLoss()\n",
        "optimizer = optim.SGD(net.parameters(), lr=0.001, momentum=0.9)"
      ],
      "execution_count": 0,
      "outputs": []
    },
    {
      "cell_type": "markdown",
      "metadata": {
        "id": "JJ1cdb9jHuh6",
        "colab_type": "text"
      },
      "source": [
        "4.train the network"
      ]
    },
    {
      "cell_type": "code",
      "metadata": {
        "id": "he77KILuJY-c",
        "colab_type": "code",
        "colab": {
          "base_uri": "https://localhost:8080/",
          "height": 246
        },
        "outputId": "5c36f6a7-c70e-487c-bdf0-95eff267b6ff"
      },
      "source": [
        "for epoch in range(2):\n",
        "\n",
        "    running_loss = 0.0\n",
        "    for i, data in enumerate(trainloader, 1):\n",
        "        # data 受取,入力もcudaに送る\n",
        "        inputs, labels = data[0].to(\"cuda:0\"), data[1].to(\"cuda:0\")\n",
        "        \"\"\"\n",
        "        # gpu使わない場合は\n",
        "        inputs, labels = data\n",
        "        \"\"\"\n",
        "\n",
        "        # gradients を初期化\n",
        "        optimizer.zero_grad()\n",
        "\n",
        "        # 学習(forward, backward, optimize)\n",
        "        outputs = net.forward(inputs)#NN通す\n",
        "        loss = criterion(outputs, labels)#loss計算\n",
        "        loss.backward()#逆伝播\n",
        "        optimizer.step()#更新\n",
        "\n",
        "        # 経過をprint(2000 mini batches ごとの平均をprint)\n",
        "        running_loss += loss.item()#.item()で値取り出し\n",
        "        if i % 2000 == 0:\n",
        "            print(epoch+1, i, running_loss / 2000)\n",
        "            running_loss = 0.0\n",
        "\n",
        "print(\"Finished Training!!!\")"
      ],
      "execution_count": 76,
      "outputs": [
        {
          "output_type": "stream",
          "text": [
            "1 2000 2.218655541777611\n",
            "1 4000 1.8607081804573535\n",
            "1 6000 1.6599725677073003\n",
            "1 8000 1.5549945766925812\n",
            "1 10000 1.514376852452755\n",
            "1 12000 1.4705504830926657\n",
            "2 2000 1.3882173229306936\n",
            "2 4000 1.3948168636113405\n",
            "2 6000 1.3463697251230478\n",
            "2 8000 1.3277814513146877\n",
            "2 10000 1.2982269149571657\n",
            "2 12000 1.281002789914608\n",
            "Finished Training!!!\n"
          ],
          "name": "stdout"
        }
      ]
    },
    {
      "cell_type": "markdown",
      "metadata": {
        "id": "Erh8I6LYbpZg",
        "colab_type": "text"
      },
      "source": [
        "modelを保存"
      ]
    },
    {
      "cell_type": "code",
      "metadata": {
        "id": "1PjEMuKZWmVQ",
        "colab_type": "code",
        "colab": {}
      },
      "source": [
        "PATH = \"./cifar_net.pth\"\n",
        "torch.save(net.state_dict(), PATH)"
      ],
      "execution_count": 0,
      "outputs": []
    },
    {
      "cell_type": "markdown",
      "metadata": {
        "id": "Va98bRSYgrxS",
        "colab_type": "text"
      },
      "source": [
        "5.testset でテスト"
      ]
    },
    {
      "cell_type": "markdown",
      "metadata": {
        "id": "coG_qiYkhQ9H",
        "colab_type": "text"
      },
      "source": [
        "testset 見てみる"
      ]
    },
    {
      "cell_type": "code",
      "metadata": {
        "id": "uVvRpth5giFA",
        "colab_type": "code",
        "colab": {
          "base_uri": "https://localhost:8080/",
          "height": 209
        },
        "outputId": "db2b02ff-3087-4472-91b8-8f41410bcc98"
      },
      "source": [
        "dataiter = iter(testloader)\n",
        "images, labels = dataiter.next()\n",
        "\n",
        "imshow(torchvision.utils.make_grid(images))\n",
        "for x in labels:\n",
        "    print(classes[x])"
      ],
      "execution_count": 78,
      "outputs": [
        {
          "output_type": "display_data",
          "data": {
            "image/png": "[encoded data removed]",
            "text/plain": [
              "<Figure size 432x288 with 1 Axes>"
            ]
          },
          "metadata": {
            "tags": []
          }
        },
        {
          "output_type": "stream",
          "text": [
            "cat\n",
            "ship\n",
            "ship\n",
            "plane\n"
          ],
          "name": "stdout"
        }
      ]
    },
    {
      "cell_type": "markdown",
      "metadata": {
        "id": "oGuTqPbMj4OF",
        "colab_type": "text"
      },
      "source": [
        "model をロード"
      ]
    },
    {
      "cell_type": "code",
      "metadata": {
        "id": "E3L2lcyPglwj",
        "colab_type": "code",
        "colab": {
          "base_uri": "https://localhost:8080/",
          "height": 158
        },
        "outputId": "2fd14ed4-cffb-43f1-f33d-7bbb6c272d22"
      },
      "source": [
        "net = Net()\n",
        "net.load_state_dict(torch.load(PATH))\n",
        "net.to(\"cuda:0\")"
      ],
      "execution_count": 82,
      "outputs": [
        {
          "output_type": "execute_result",
          "data": {
            "text/plain": [
              "Net(\n",
              "  (conv1): Conv2d(3, 6, kernel_size=(5, 5), stride=(1, 1))\n",
              "  (pool): MaxPool2d(kernel_size=2, stride=2, padding=0, dilation=1, ceil_mode=False)\n",
              "  (conv2): Conv2d(6, 16, kernel_size=(5, 5), stride=(1, 1))\n",
              "  (fc1): Linear(in_features=400, out_features=120, bias=True)\n",
              "  (fc2): Linear(in_features=120, out_features=84, bias=True)\n",
              "  (fc3): Linear(in_features=84, out_features=10, bias=True)\n",
              ")"
            ]
          },
          "metadata": {
            "tags": []
          },
          "execution_count": 82
        }
      ]
    },
    {
      "cell_type": "markdown",
      "metadata": {
        "id": "lDxh8VIWlhZp",
        "colab_type": "text"
      },
      "source": [
        "上で見た4枚で予測してみる"
      ]
    },
    {
      "cell_type": "code",
      "metadata": {
        "id": "z7CNkdxAlPPw",
        "colab_type": "code",
        "colab": {
          "base_uri": "https://localhost:8080/",
          "height": 87
        },
        "outputId": "a5625300-63f1-47e4-a018-f36bc035e39c"
      },
      "source": [
        "outputs = net.forward(images)\n",
        "\n",
        "_, predicted = torch.max(outputs, 1)\n",
        "for x in predicted:\n",
        "    print(classes[x])"
      ],
      "execution_count": 83,
      "outputs": [
        {
          "output_type": "stream",
          "text": [
            "cat\n",
            "ship\n",
            "plane\n",
            "plane\n"
          ],
          "name": "stdout"
        }
      ]
    },
    {
      "cell_type": "markdown",
      "metadata": {
        "id": "DnDXaLt4owd9",
        "colab_type": "text"
      },
      "source": [
        "dataset全体でパフォ見てみる"
      ]
    },
    {
      "cell_type": "code",
      "metadata": {
        "id": "qaweKu2Gmd_g",
        "colab_type": "code",
        "colab": {
          "base_uri": "https://localhost:8080/",
          "height": 34
        },
        "outputId": "f786cb9e-457c-4c2d-cd72-547ae0f6b330"
      },
      "source": [
        "correct = 0\n",
        "total = 0\n",
        "\n",
        "with torch.no_grad():#勾配を計算保持しない\n",
        "    for data in testloader:\n",
        "        images, labels = data[0].to(\"cuda:0\"), data[1].to(\"cuda:0\")\n",
        "        outputs = net.forward(images)\n",
        "        _, predicted = torch.max(outputs, 1)\n",
        "        correct += (predicted == labels).sum().item()\n",
        "        total += labels.size(0)\n",
        "\n",
        "print(\"Accuracy of the network on the 10000 test images:\", correct / total)"
      ],
      "execution_count": 88,
      "outputs": [
        {
          "output_type": "stream",
          "text": [
            "Accuracy of the network on the 10000 test images: 0.5565\n"
          ],
          "name": "stdout"
        }
      ]
    },
    {
      "cell_type": "markdown",
      "metadata": {
        "id": "_cochhC7rW3W",
        "colab_type": "text"
      },
      "source": [
        "ランダム(1/10)よりはるかにいいね！  \n",
        "何か学習できてるっぽい！やった！  "
      ]
    },
    {
      "cell_type": "markdown",
      "metadata": {
        "id": "UwiOG8AlrpNs",
        "colab_type": "text"
      },
      "source": [
        "classごとにパフォ見てみる"
      ]
    },
    {
      "cell_type": "code",
      "metadata": {
        "id": "sN3i9qGOqg3O",
        "colab_type": "code",
        "colab": {
          "base_uri": "https://localhost:8080/",
          "height": 210
        },
        "outputId": "b646b7e4-26bd-466d-f16f-3b8260e803de"
      },
      "source": [
        "correct = [0.0] * 10\n",
        "total = [0.0] * 10\n",
        "\n",
        "with torch.no_grad():\n",
        "    for data in testloader:\n",
        "        images, labels = data[0].to(\"cuda:0\"), data[1].to(\"cuda:0\")\n",
        "        outputs = net.forward(images)\n",
        "        _, predicted = torch.max(outputs, 1)\n",
        "        for i in range(labels.size()[0]):\n",
        "            label = labels[i]\n",
        "            predict = predicted[i]\n",
        "            if label == predict:\n",
        "                correct[predict] += 1\n",
        "            total[predict] += 1\n",
        "\n",
        "print(\"accuracy\")\n",
        "for i in range(10):\n",
        "    print(\"%5s : %2d %%\" % (classes[i], 100 * correct[i] / total[i]))"
      ],
      "execution_count": 93,
      "outputs": [
        {
          "output_type": "stream",
          "text": [
            "accuracy\n",
            "plane : 57 %\n",
            "  car : 74 %\n",
            " bird : 52 %\n",
            "  cat : 37 %\n",
            " deer : 43 %\n",
            "  dog : 49 %\n",
            " frog : 56 %\n",
            "horse : 55 %\n",
            " ship : 75 %\n",
            "truck : 60 %\n"
          ],
          "name": "stdout"
        }
      ]
    },
    {
      "cell_type": "code",
      "metadata": {
        "id": "HRjSt4rytb_F",
        "colab_type": "code",
        "colab": {}
      },
      "source": [
        ""
      ],
      "execution_count": 0,
      "outputs": []
    }
  ]
}